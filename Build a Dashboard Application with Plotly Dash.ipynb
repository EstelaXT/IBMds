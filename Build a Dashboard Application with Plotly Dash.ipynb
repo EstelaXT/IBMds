{
 "cells": [
  {
   "cell_type": "markdown",
   "id": "6c92d727",
   "metadata": {},
   "source": [
    "# Build a Dashboard Application with Plotly Dash"
   ]
  },
  {
   "cell_type": "code",
   "execution_count": 1,
   "id": "aec5925f",
   "metadata": {},
   "outputs": [],
   "source": [
    "#pip install pandas dash"
   ]
  },
  {
   "cell_type": "code",
   "execution_count": 2,
   "id": "ba3f9f4c",
   "metadata": {},
   "outputs": [],
   "source": [
    "import pandas as pd\n",
    "from dash import Dash, dcc,html, Input, Output\n",
    "\n",
    "import plotly.express as px"
   ]
  },
  {
   "cell_type": "code",
   "execution_count": 3,
   "id": "bed61637",
   "metadata": {},
   "outputs": [
    {
     "name": "stderr",
     "output_type": "stream",
     "text": [
      "C:\\Users\\adm\\AppData\\Local\\Temp\\ipykernel_23352\\1855361594.py:3: UserWarning: \n",
      "The dash_html_components package is deprecated. Please replace\n",
      "`import dash_html_components as html` with `from dash import html`\n",
      "  import dash_html_components as html\n",
      "C:\\Users\\adm\\AppData\\Local\\Temp\\ipykernel_23352\\1855361594.py:4: UserWarning: \n",
      "The dash_core_components package is deprecated. Please replace\n",
      "`import dash_core_components as dcc` with `from dash import dcc`\n",
      "  import dash_core_components as dcc\n"
     ]
    }
   ],
   "source": [
    "import pandas as pd\n",
    "import dash\n",
    "import dash_html_components as html\n",
    "import dash_core_components as dcc\n",
    "from dash.dependencies import Input, Output\n",
    "import plotly.express as px"
   ]
  },
  {
   "cell_type": "code",
   "execution_count": 4,
   "id": "76042b1f",
   "metadata": {},
   "outputs": [],
   "source": [
    "#pip install wget"
   ]
  },
  {
   "cell_type": "code",
   "execution_count": 5,
   "id": "51ebb2f4",
   "metadata": {},
   "outputs": [],
   "source": [
    "import wget"
   ]
  },
  {
   "cell_type": "code",
   "execution_count": 6,
   "id": "9d3782b9",
   "metadata": {},
   "outputs": [
    {
     "name": "stdout",
     "output_type": "stream",
     "text": [
      "100% [................................................................................] 2476 / 2476"
     ]
    },
    {
     "data": {
      "text/plain": [
       "'spacex_launch_dash.csv'"
      ]
     },
     "execution_count": 6,
     "metadata": {},
     "output_type": "execute_result"
    }
   ],
   "source": [
    "url1=\"https://cf-courses-data.s3.us.cloud-object-storage.appdomain.cloud/IBM-DS0321EN-SkillsNetwork/datasets/spacex_launch_dash.csv\"\n",
    "url2=\"https://cf-courses-data.s3.us.cloud-object-storage.appdomain.cloud/IBM-DS0321EN-SkillsNetwork/labs/module_3/spacex_dash_app.py\"\n",
    "wget.download(url1, \"spacex_launch_dash.csv\")"
   ]
  },
  {
   "cell_type": "code",
   "execution_count": 7,
   "id": "7d2fdecc",
   "metadata": {},
   "outputs": [
    {
     "name": "stdout",
     "output_type": "stream",
     "text": [
      "100% [................................................................................] 2110 / 2110"
     ]
    },
    {
     "data": {
      "text/plain": [
       "'spacex_dash_app.py'"
      ]
     },
     "execution_count": 7,
     "metadata": {},
     "output_type": "execute_result"
    }
   ],
   "source": [
    "wget.download(url2, \"spacex_dash_app.py\")"
   ]
  },
  {
   "cell_type": "code",
   "execution_count": 8,
   "id": "479716f5",
   "metadata": {},
   "outputs": [],
   "source": [
    "spacex_df = pd.read_csv(\"spacex_launch_dash.csv\")\n",
    "max_payload = spacex_df['Payload Mass (kg)'].max()\n",
    "min_payload = spacex_df['Payload Mass (kg)'].min()"
   ]
  },
  {
   "cell_type": "code",
   "execution_count": 9,
   "id": "a3de2e82",
   "metadata": {},
   "outputs": [],
   "source": [
    "# Create a dash application\n",
    "app = dash.Dash(__name__)"
   ]
  },
  {
   "cell_type": "code",
   "execution_count": 10,
   "id": "08ca560a",
   "metadata": {},
   "outputs": [],
   "source": [
    "# Create an app layout\n",
    "app.layout = html.Div(children=[html.H1('SpaceX Launch Records Dashboard',\n",
    "                                        style={'textAlign': 'center', 'color': '#503D36',\n",
    "                                               'font-size': 40}),\n",
    "                                # TASK 1: Add a dropdown list to enable Launch Site selection\n",
    "                                # The default select value is for ALL sites\n",
    "                                # dcc.Dropdown(id='site-dropdown',...)\n",
    "                                dcc.Dropdown(id = 'site-dropdown',\n",
    "                                            options = [\n",
    "                                                         {'label': 'ALL SITES', 'value': 'ALL'},\n",
    "                                                         {'label': 'CCAFS LC-40', 'value': 'CCAFS LC-40'},\n",
    "                                                         {'label': 'VAFB SLC-4E', 'value': 'VAFB SLC-4E'},\n",
    "                                                         {'label': 'KSC LC-39A', 'value': 'KSC LC-39A'},\n",
    "                                                         {'label': 'CCAFS SLC-40', 'value': 'CCAFS SLC-40'}\n",
    "                                                      ],\n",
    "                                            value = 'ALL',\n",
    "                                            placeholder = \"Select Launch Site\", \n",
    "                                            searchable = True),\n",
    "                                html.Br(),\n",
    "\n",
    "                                # TASK 2: Add a pie chart to show the total successful launches count for all sites\n",
    "                                # If a specific launch site was selected, show the Success vs. Failed counts for the site\n",
    "                                html.Div(dcc.Graph(id='success-pie-chart')),\n",
    "                                html.Br(),\n",
    "\n",
    "                                html.P(\"Payload range (Kg):\"),\n",
    "                                # TASK 3: Add a slider to select payload range\n",
    "                                #dcc.RangeSlider(id='payload-slider',...)\n",
    "                                dcc.RangeSlider(id = 'payload-slider',\n",
    "                                                min = 0, max = 10000, step = 1000,\n",
    "                                                value = [min_payload, max_payload],\n",
    "                                                marks = {0: '0 kg', \n",
    "                                                         2500: '2500 kg',\n",
    "                                                         5000: '5000 kg', \n",
    "                                                         7500: '7500 kg', \n",
    "                                                         10000: '10000 kg'}\n",
    "                                                ),\n",
    "\n",
    "                                # TASK 4: Add a scatter chart to show the correlation between payload and launch success\n",
    "                                html.Div(dcc.Graph(id='success-payload-scatter-chart')),\n",
    "                                ])"
   ]
  },
  {
   "cell_type": "code",
   "execution_count": 11,
   "id": "2b243fb3",
   "metadata": {},
   "outputs": [],
   "source": [
    "# TASK 2:\n",
    "# Add a callback function for `site-dropdown` as input, `success-pie-chart` as output\n",
    "@app.callback(\n",
    "    Output(component_id = 'success-pie-chart', component_property = 'figure'),\n",
    "    Input(component_id = 'site-dropdown', component_property = 'value')\n",
    ") \n",
    "\n",
    "def get_pie_chart(entered_site):\n",
    "    if entered_site == 'ALL':\n",
    "        piechart = px.pie(data_frame = spacex_df,\n",
    "                          names = 'Launch Site', \n",
    "                          values = 'class', \n",
    "                          title = 'Launches from All Sites'\n",
    "                         )\n",
    "        return piechart\n",
    "    else:\n",
    "        selected_data = spacex_df.loc[spacex_df['Launch Site'] == entered_site]\n",
    "        piechart = px.pie(data_frame = selected_data, \n",
    "                          names = 'class', \n",
    "                          title = 'Launches from ' + entered_site\n",
    "                         )\n",
    "        return piechart"
   ]
  },
  {
   "cell_type": "code",
   "execution_count": 12,
   "id": "792ed867",
   "metadata": {},
   "outputs": [],
   "source": [
    "# TASK 4:\n",
    "# Add a callback function for `site-dropdown` and `payload-slider` as inputs, `success-payload-scatter-chart` as output\n",
    "@app.callback(\n",
    "    Output(component_id = 'success-payload-scatter-chart', component_property='figure'),\n",
    "    [Input(component_id = 'site-dropdown', component_property = 'value'),\n",
    "     Input(component_id = 'payload-slider', component_property = 'value')]\n",
    ")\n",
    "\n",
    "def get_scatter_plot(entered_site, payload):\n",
    "    if entered_site == 'ALL':\n",
    "        filtered_data = spacex_df[(spacex_df['Payload Mass (kg)'] >= payload[0])\n",
    "                                  & (spacex_df['Payload Mass (kg)'] <= payload[1])]\n",
    "        scatterplot = px.scatter(data_frame = filtered_data, \n",
    "                                 x = \"Payload Mass (kg)\", \n",
    "                                 y = \"class\", \n",
    "                                 color = \"Booster Version Category\"\n",
    "                                )\n",
    "        return scatterplot\n",
    "    else:\n",
    "        selected_data = spacex_df.loc[spacex_df['Launch Site'] == entered_site]\n",
    "        filtered_data = selected_data[(selected_data['Payload Mass (kg)'] >= payload[0])\n",
    "                                      & (selected_data['Payload Mass (kg)'] <= payload[1])]\n",
    "        scatterplot = px.scatter(data_frame = filtered_data, \n",
    "                                 x = \"Payload Mass (kg)\", \n",
    "                                 y = \"class\", \n",
    "                                 color = \"Booster Version Category\"\n",
    "                                )\n",
    "        return scatterplot"
   ]
  },
  {
   "cell_type": "code",
   "execution_count": 13,
   "id": "596183b4",
   "metadata": {},
   "outputs": [
    {
     "data": {
      "text/html": [
       "\n",
       "        <iframe\n",
       "            width=\"100%\"\n",
       "            height=\"650\"\n",
       "            src=\"http://127.0.0.1:8050/\"\n",
       "            frameborder=\"0\"\n",
       "            allowfullscreen\n",
       "            \n",
       "        ></iframe>\n",
       "        "
      ],
      "text/plain": [
       "<IPython.lib.display.IFrame at 0x222d8643190>"
      ]
     },
     "metadata": {},
     "output_type": "display_data"
    }
   ],
   "source": [
    "# Run the app\n",
    "if __name__ == '__main__':\n",
    "    app.run_server()"
   ]
  },
  {
   "cell_type": "code",
   "execution_count": null,
   "id": "207893b9",
   "metadata": {},
   "outputs": [],
   "source": []
  }
 ],
 "metadata": {
  "kernelspec": {
   "display_name": "Python 3 (ipykernel)",
   "language": "python",
   "name": "python3"
  },
  "language_info": {
   "codemirror_mode": {
    "name": "ipython",
    "version": 3
   },
   "file_extension": ".py",
   "mimetype": "text/x-python",
   "name": "python",
   "nbconvert_exporter": "python",
   "pygments_lexer": "ipython3",
   "version": "3.11.4"
  }
 },
 "nbformat": 4,
 "nbformat_minor": 5
}
